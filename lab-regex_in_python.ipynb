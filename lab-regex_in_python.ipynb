{
 "cells": [
  {
   "cell_type": "markdown",
   "metadata": {},
   "source": [
    "# LAB | Regular Expressions (Regex) in Python"
   ]
  },
  {
   "cell_type": "markdown",
   "metadata": {},
   "source": [
    "## Overview\n",
    "This exercise notebook will help you practice using regular expressions in Python. Regular expressions are powerful tools for matching patterns in strings, which can be useful for validation, searching, and data manipulation.\n",
    "\n",
    "## Instructions\n",
    "- Complete each exercise by writing the appropriate regex pattern and Python code in the provided space.\n",
    "- Test your code to ensure it works as expected.\n",
    "<!-- - Use the hints provided if you get stuck. -->"
   ]
  },
  {
   "cell_type": "markdown",
   "metadata": {},
   "source": [
    "### Exercise 1: Match Email Addresses\n",
    "Write a regex pattern to match valid email addresses. An email address should contain an '@' symbol and a domain."
   ]
  },
  {
   "cell_type": "code",
   "execution_count": 1,
   "metadata": {},
   "outputs": [
    {
     "name": "stdout",
     "output_type": "stream",
     "text": [
      "You entered: geotheleo@gmail.com\n",
      "Valid email address(es) found: ['geotheleo@gmail.com']\n"
     ]
    }
   ],
   "source": [
    "import re\n",
    "\n",
    "# Prompt the user for input\n",
    "user_input = input(\"Enter a string (email address or text): \")\n",
    "\n",
    "# Display the entered input\n",
    "print(\"You entered:\", user_input)\n",
    "\n",
    "# Define regex pattern for a valid email address\n",
    "# Basic pattern: username@domain.extension\n",
    "email_pattern = r'\\b[A-Za-z0-9._%+-]+@[A-Za-z0-9.-]+\\.[A-Za-z]{2,}\\b'\n",
    "\n",
    "# Search for valid email addresses in the input\n",
    "matches = re.findall(email_pattern, user_input)\n",
    "\n",
    "# Print results\n",
    "if matches:\n",
    "    print(\"Valid email address(es) found:\", matches)\n",
    "else:\n",
    "    print(\"No valid email addresses found.\")\n"
   ]
  },
  {
   "cell_type": "markdown",
   "metadata": {},
   "source": [
    "### Exercise 2: Validate Phone Numbers\n",
    "Create a regex pattern to validate phone numbers in the format (123) 456-7890 or 123-456-7890."
   ]
  },
  {
   "cell_type": "code",
   "execution_count": 2,
   "metadata": {},
   "outputs": [
    {
     "name": "stdout",
     "output_type": "stream",
     "text": [
      "You entered: 5234881555\n",
      "Invalid phone number format.\n"
     ]
    }
   ],
   "source": [
    "import re\n",
    "\n",
    "# Prompt the user for input\n",
    "user_input = input(\"Enter a phone number: \")\n",
    "\n",
    "# Display the entered input\n",
    "print(\"You entered:\", user_input)\n",
    "\n",
    "# Define regex pattern to match:\n",
    "# - (123) 456-7890\n",
    "# - 123-456-7890\n",
    "phone_pattern = r'^(\\(\\d{3}\\)\\s|\\d{3}-)\\d{3}-\\d{4}$'\n",
    "\n",
    "# test the phone number out\n",
    "if re.match(phone_pattern, user_input):\n",
    "    print(\"Valid phone number format.\")\n",
    "else:\n",
    "    print(\"Invalid phone number format.\")\n"
   ]
  },
  {
   "cell_type": "markdown",
   "metadata": {},
   "source": [
    "### Exercise 3: Extract Dates\n",
    "Write a regex pattern to extract dates in the format YYYY-MM-DD from a string."
   ]
  },
  {
   "cell_type": "code",
   "execution_count": 4,
   "metadata": {},
   "outputs": [
    {
     "name": "stdout",
     "output_type": "stream",
     "text": [
      "You entered: 2025-08-07\n",
      "Date(s) found: ['2025-08-07']\n"
     ]
    }
   ],
   "source": [
    "import re\n",
    "\n",
    "# Prompt the user for input\n",
    "user_input = input(\"Enter a string containing date(s): \")\n",
    "\n",
    "# Display the entered input\n",
    "print(\"You entered:\", user_input)\n",
    "\n",
    "# Define regex pattern to extract dates in the format YYYY-MM-DD\n",
    "date_pattern = r'\\b\\d{4}-\\d{2}-\\d{2}\\b'\n",
    "\n",
    "# Find all matching dates\n",
    "matches = re.findall(date_pattern, user_input)\n",
    "\n",
    "# Print results\n",
    "if matches:\n",
    "    print(\"Date(s) found:\", matches)\n",
    "else:\n",
    "    print(\"No valid dates found in YYYY-MM-DD format.\")\n"
   ]
  },
  {
   "cell_type": "markdown",
   "metadata": {},
   "source": [
    "### Exercise 4: Match URLs\n",
    "Create a regex pattern to match URLs that start with http:// or https://."
   ]
  },
  {
   "cell_type": "code",
   "execution_count": 5,
   "metadata": {},
   "outputs": [
    {
     "name": "stdout",
     "output_type": "stream",
     "text": [
      "You entered: https://de.wikipedia.org/wiki/Juliane_Koepcke#1971:_Fall_aus_einem_abst%C3%BCrzenden_Flugzeug\n",
      "URL(s) found: ['https://de.wikipedia.org/wiki/Juliane_Koepcke#1971:_Fall_aus_einem_abst%C3%BCrzenden_Flugzeug']\n"
     ]
    }
   ],
   "source": [
    "import re\n",
    "\n",
    "# Ask the user for input\n",
    "user_input = input(\"Enter a string containing URL(s): \")\n",
    "\n",
    "# Display the entered input\n",
    "print(\"You entered:\", user_input)\n",
    "\n",
    "# Define regex pattern to match URLs starting with http:// or https://\n",
    "url_pattern = r'\\bhttps?://[^\\s]+'\n",
    "\n",
    "# Find all matching URLs\n",
    "matches = re.findall(url_pattern, user_input)\n",
    "\n",
    "# Print results\n",
    "if matches:\n",
    "    print(\"URL(s) found:\", matches)\n",
    "else:\n",
    "    print(\"No valid URLs starting with http:// or https:// found.\")\n"
   ]
  },
  {
   "cell_type": "markdown",
   "metadata": {},
   "source": [
    "### Exercise 5: Find Words Starting with a Specific Letter\n",
    "Write a regex pattern to find all words starting with the letter 'a' in a given string."
   ]
  },
  {
   "cell_type": "code",
   "execution_count": 6,
   "metadata": {},
   "outputs": [
    {
     "name": "stdout",
     "output_type": "stream",
     "text": [
      "You entered: Geo the leo jumped over the lazy goofball\n",
      "Words starting with 'g': ['Geo', 'goofball']\n"
     ]
    }
   ],
   "source": [
    "import re\n",
    "\n",
    "# Prompt the user for input\n",
    "user_input = input(\"Enter a string: \")\n",
    "\n",
    "# Display the entered input\n",
    "print(\"You entered:\", user_input)\n",
    "\n",
    "# Define regex pattern to find words that start with 'g' or 'G'\n",
    "word_pattern = r'\\b[gG]\\w*'\n",
    "\n",
    "# Find all matching words\n",
    "matches = re.findall(word_pattern, user_input)\n",
    "\n",
    "# Print results\n",
    "if matches:\n",
    "    print(\"Words starting with 'g':\", matches)\n",
    "else:\n",
    "    print(\"No words starting with 'g' found.\")\n"
   ]
  },
  {
   "cell_type": "markdown",
   "metadata": {},
   "source": [
    "### Exercise 6: Match Hexadecimal Colors\n",
    "Create a regex pattern to match hexadecimal color codes (e.g., #FFFFFF)."
   ]
  },
  {
   "cell_type": "code",
   "execution_count": 8,
   "metadata": {},
   "outputs": [
    {
     "name": "stdout",
     "output_type": "stream",
     "text": [
      "You entered: art124\n",
      "No valid hexadecimal color codes found.\n"
     ]
    }
   ],
   "source": [
    "import re\n",
    "\n",
    "# Prompt the user for input\n",
    "user_input = input(\"Enter a string containing hexadecimal color codes: \")\n",
    "\n",
    "# Display the entered input\n",
    "print(\"You entered:\", user_input)\n",
    "\n",
    "# Define regex pattern to match hex color codes like #FFFFFF or #abc123\n",
    "hex_color_pattern = r'\\b#[0-9A-Fa-f]{6}\\b'\n",
    "\n",
    "# Find all matching hex color codes\n",
    "matches = re.findall(hex_color_pattern, user_input)\n",
    "\n",
    "# Print results\n",
    "if matches:\n",
    "    print(\"Hexadecimal color code(s) found:\", matches)\n",
    "else:\n",
    "    print(\"No valid hexadecimal color codes found.\")\n"
   ]
  },
  {
   "cell_type": "markdown",
   "metadata": {},
   "source": [
    "### Exercise 7: Validate Passwords \n",
    "Write a regex pattern to validate passwords that must be at least 8 characters long and contain at least one uppercase letter, one lowercase letter, one digit, and one special character."
   ]
  },
  {
   "cell_type": "code",
   "execution_count": 9,
   "metadata": {},
   "outputs": [
    {
     "name": "stdout",
     "output_type": "stream",
     "text": [
      "You entered: Hamb0ne!(75\n",
      "Password is invalid. It must be 8 characters long and contain at least one uppercase letter, one lowercase letter, one digit, and one special character.\n"
     ]
    }
   ],
   "source": [
    "import re\n",
    "\n",
    "# Prompt the user for input\n",
    "user_input = input(\"Enter a password: \")\n",
    "\n",
    "# Display the entered input\n",
    "print(\"You entered:\", user_input)\n",
    "\n",
    "# Define regex pattern for a valid password:\n",
    "# - Exactly 8 characters\n",
    "# - At least one uppercase letter\n",
    "# - At least one lowercase letter\n",
    "# - At least one digit\n",
    "# - At least one special character (non-word character)\n",
    "password_pattern = r'^(?=.*[a-z])(?=.*[A-Z])(?=.*\\d)(?=.*\\W).{8}$'\n",
    "\n",
    "# Validate the password\n",
    "if re.match(password_pattern, user_input):\n",
    "    print(\"Password is valid.\")\n",
    "else:\n",
    "    print(\"Password is invalid. It must be 8 characters long and contain at least one uppercase letter, one lowercase letter, one digit, and one special character.\")\n"
   ]
  },
  {
   "cell_type": "markdown",
   "metadata": {},
   "source": [
    "### Exercise 8: Remove Extra Spaces \n",
    "Create a regex pattern that removes extra spaces from a string while keeping single spaces between words."
   ]
  },
  {
   "cell_type": "code",
   "execution_count": 10,
   "metadata": {},
   "outputs": [
    {
     "name": "stdout",
     "output_type": "stream",
     "text": [
      "You entered: There's    too many spaces in this  dang sentence!\n",
      "Cleaned string: There's too many spaces in this dang sentence!\n"
     ]
    }
   ],
   "source": [
    "import re\n",
    "\n",
    "# Prompt the user for input\n",
    "user_input = input(\"Enter a string with extra spaces: \")\n",
    "\n",
    "# Display the original input\n",
    "print(\"You entered:\", user_input)\n",
    "\n",
    "# Use regex to replace multiple spaces with a single space\n",
    "cleaned_string = re.sub(r'\\s+', ' ', user_input).strip()\n",
    "\n",
    "# Display the cleaned string\n",
    "print(\"Cleaned string:\", cleaned_string)\n"
   ]
  },
  {
   "cell_type": "markdown",
   "metadata": {},
   "source": [
    "### Exercise 9: Match IP Addresses \n",
    "Write a regex pattern to match valid IPv4 addresses."
   ]
  },
  {
   "cell_type": "code",
   "execution_count": 11,
   "metadata": {},
   "outputs": [
    {
     "name": "stdout",
     "output_type": "stream",
     "text": [
      "You entered: 255.255.22.184\n",
      "Valid IPv4 address(es) found: ['255.255.22.184']\n"
     ]
    }
   ],
   "source": [
    "import re\n",
    "\n",
    "# Ask the user for an IP addy\n",
    "user_input = input(\"Enter a string containing an IPv4 address: \")\n",
    "\n",
    "# Display the entered input\n",
    "print(\"You entered:\", user_input)\n",
    "\n",
    "# Define regex pattern to match valid IPv4 addresses (0.0.0.0 to 255.255.255.255)\n",
    "ipv4_pattern = (\n",
    "    r'\\b('\n",
    "    r'(25[0-5]|'      # 250–255\n",
    "    r'2[0-4][0-9]|'   # 200–249\n",
    "    r'1[0-9]{2}|'     # 100–199\n",
    "    r'[1-9]?[0-9])'   # 0–99\n",
    "    r'\\.){3}'\n",
    "    r'(25[0-5]|2[0-4][0-9]|1[0-9]{2}|[1-9]?[0-9])'  # Last octet\n",
    "    r'\\b'\n",
    ")\n",
    "\n",
    "# Search for valid IPv4 addresses in the input\n",
    "matches = re.findall(ipv4_pattern, user_input)\n",
    "\n",
    "# Extract only the full matches (if any)\n",
    "# Since re.findall returns tuples due to grouping, re.finditer is cleaner here\n",
    "full_matches = [match.group(0) for match in re.finditer(ipv4_pattern, user_input)]\n",
    "\n",
    "# Display the result\n",
    "if full_matches:\n",
    "    print(\"Valid IPv4 address(es) found:\", full_matches)\n",
    "else:\n",
    "    print(\"No valid IPv4 addresses found.\")\n"
   ]
  },
  {
   "cell_type": "markdown",
   "metadata": {},
   "source": [
    "### Exercise 10: Extract Hashtags \n",
    "Create a regex pattern to extract hashtags from a string."
   ]
  },
  {
   "cell_type": "code",
   "execution_count": 13,
   "metadata": {},
   "outputs": [
    {
     "name": "stdout",
     "output_type": "stream",
     "text": [
      "You entered: #eldergoths\n",
      "Hashtags found: ['#eldergoths']\n"
     ]
    }
   ],
   "source": [
    "import re\n",
    "\n",
    "# Ask the user for hashtags\n",
    "user_input = input(\"Enter a string containing hashtags: \")\n",
    "\n",
    "# Display the entered input\n",
    "print(\"You entered:\", user_input)\n",
    "\n",
    "# Define regex pattern to extract hashtags\n",
    "hashtag_pattern = r'#\\w+'\n",
    "\n",
    "# Find all hashtags\n",
    "matches = re.findall(hashtag_pattern, user_input)\n",
    "\n",
    "# Display the matched hashtags\n",
    "if matches:\n",
    "    print(\"Hashtags found:\", matches)\n",
    "else:\n",
    "    print(\"No hashtags found.\")\n"
   ]
  },
  {
   "cell_type": "markdown",
   "metadata": {},
   "source": [
    "## Bonus Exercises\n"
   ]
  },
  {
   "cell_type": "markdown",
   "metadata": {},
   "source": [
    "\n",
    "### Bonus Exercise 1: Match All Digits \n",
    "Write a regex pattern to match all digits in a given string."
   ]
  },
  {
   "cell_type": "code",
   "execution_count": 12,
   "metadata": {},
   "outputs": [
    {
     "name": "stdout",
     "output_type": "stream",
     "text": [
      "You entered: 84925547\n",
      "Digits found: ['8', '4', '9', '2', '5', '5', '4', '7']\n"
     ]
    }
   ],
   "source": [
    "import re\n",
    "\n",
    "# Prompt the user for input\n",
    "user_input = input(\"Enter a string containing digits: \")\n",
    "\n",
    "# Display the entered input\n",
    "print(\"You entered:\", user_input)\n",
    "\n",
    "# Define regex pattern to match all individual digits\n",
    "digit_pattern = r'\\d'\n",
    "\n",
    "# Find all digits in the string\n",
    "matches = re.findall(digit_pattern, user_input)\n",
    "\n",
    "# Display the matched digits\n",
    "if matches:\n",
    "    print(\"Digits found:\", matches)\n",
    "else:\n",
    "    print(\"No digits found.\")\n"
   ]
  },
  {
   "cell_type": "markdown",
   "metadata": {},
   "source": [
    "### Bonus Exercise 2: Validate Credit Card Numbers  \n",
    "Create a regex pattern to validate credit card numbers (16 digits)."
   ]
  },
  {
   "cell_type": "code",
   "execution_count": 14,
   "metadata": {},
   "outputs": [
    {
     "name": "stdout",
     "output_type": "stream",
     "text": [
      "You entered: 8888564412354768\n",
      "Valid credit card format.\n"
     ]
    }
   ],
   "source": [
    "import re\n",
    "\n",
    "# Ask for the card numba\n",
    "user_input = input(\"Enter a credit card number: \")\n",
    "\n",
    "# Display the entered input\n",
    "print(\"You entered:\", user_input)\n",
    "\n",
    "# Define regex pattern to match a valid 16-digit credit card number\n",
    "# Allows optional spaces or dashes between groups of 4 digits\n",
    "cc_pattern = r'^(?:\\d{4}[-\\s]?){3}\\d{4}$'\n",
    "\n",
    "# Validate the credit card number\n",
    "if re.match(cc_pattern, user_input):\n",
    "    print(\"Valid credit card format.\")\n",
    "else:\n",
    "    print(\"Invalid credit card format. It must contain 16 digits optionally separated by spaces or dashes.\")\n"
   ]
  },
  {
   "cell_type": "markdown",
   "metadata": {},
   "source": [
    "### Bonus Exercise 3: Match Non-Alphanumeric Characters  \n",
    "Write a regex pattern to match non-alphanumeric characters in a string."
   ]
  },
  {
   "cell_type": "code",
   "execution_count": 15,
   "metadata": {},
   "outputs": [
    {
     "name": "stdout",
     "output_type": "stream",
     "text": [
      "You entered: Hey! Whatcha been doin'? Steppin' out lata'?\n",
      "Non-alphanumeric characters found: ['!', ' ', ' ', ' ', \"'\", '?', ' ', \"'\", ' ', ' ', \"'\", '?']\n"
     ]
    }
   ],
   "source": [
    "import re\n",
    "\n",
    "# user input\n",
    "user_input = input(\"Enter a string containing non-alphanumeric characters: \")\n",
    "\n",
    "# Display the entered input\n",
    "print(\"You entered:\", user_input)\n",
    "\n",
    "# Define regex pattern to match non-alphanumeric characters\n",
    "non_alnum_pattern = r'[^a-zA-Z0-9]'\n",
    "\n",
    "# Find all non-alphanumeric characters\n",
    "matches = re.findall(non_alnum_pattern, user_input)\n",
    "\n",
    "# Display the matches\n",
    "if matches:\n",
    "    print(\"Non-alphanumeric characters found:\", matches)\n",
    "else:\n",
    "    print(\"No non-alphanumeric characters found.\")\n"
   ]
  },
  {
   "cell_type": "markdown",
   "metadata": {},
   "source": [
    "### Bonus Exercise 4: Validate Date Format  \n",
    "Create a regex pattern to validate dates in the format DD/MM/YYYY."
   ]
  },
  {
   "cell_type": "code",
   "execution_count": 16,
   "metadata": {},
   "outputs": [
    {
     "name": "stdout",
     "output_type": "stream",
     "text": [
      "You entered: 07/08/1969\n",
      "Valid date format.\n"
     ]
    }
   ],
   "source": [
    "import re\n",
    "\n",
    "# ask user for input\n",
    "user_input = input(\"Enter a date (DD/MM/YYYY): \")\n",
    "\n",
    "# Display the entered input\n",
    "print(\"You entered:\", user_input)\n",
    "\n",
    "# Define regex pattern to match valid DD/MM/YYYY date format\n",
    "# - Day: 01 to 31\n",
    "# - Month: 01 to 12\n",
    "# - Year: 4 digits\n",
    "date_pattern = r'^(0[1-9]|[12][0-9]|3[01])/(0[1-9]|1[0-2])/\\d{4}$'\n",
    "\n",
    "# Validate the date\n",
    "if re.match(date_pattern, user_input):\n",
    "    print(\"Valid date format.\")\n",
    "else:\n",
    "    print(\"Invalid date format. Use DD/MM/YYYY with valid day and month ranges.\")"
   ]
  },
  {
   "cell_type": "markdown",
   "metadata": {},
   "source": [
    "### Bonus Exercise 5: Extract Email Domains  \n",
    "Write a regex pattern to extract domains from email addresses."
   ]
  },
  {
   "cell_type": "code",
   "execution_count": 18,
   "metadata": {},
   "outputs": [
    {
     "name": "stdout",
     "output_type": "stream",
     "text": [
      "You entered: professorgeotheleo@outlook.com\n",
      "Domain(s) extracted from email address(es): ['outlook.com']\n"
     ]
    }
   ],
   "source": [
    "import re\n",
    "# get user input\n",
    "user_input = input(\"Enter a string containing email address(es): \")\n",
    "\n",
    "# Display the entered input\n",
    "print(\"You entered:\", user_input)\n",
    "\n",
    "# Define regex pattern to extract domain part from email addresses\n",
    "# This captures the part after the '@' symbol - I hope! not easy!\n",
    "domain_pattern = r'@([\\w.-]+\\.[a-zA-Z]{2,})'\n",
    "\n",
    "# Find all domains in the input string\n",
    "matches = re.findall(domain_pattern, user_input)\n",
    "\n",
    "# Display the results\n",
    "if matches:\n",
    "    print(\"Domain(s) extracted from email address(es):\", matches)\n",
    "else:\n",
    "    print(\"No valid email domains found.\")"
   ]
  },
  {
   "cell_type": "markdown",
   "metadata": {},
   "source": [
    "### Exercise Completion  \n",
    "Once you have completed all exercises:\n",
    "- Review your solutions.\n",
    "- Ensure your regular expressions and Python code are well-documented with comments explaining your logic.\n",
    "- Save your notebook for submission or further review.\n",
    "\n",
    "Happy coding! Enjoy practicing Regular Expressions in Python!"
   ]
  }
 ],
 "metadata": {
  "kernelspec": {
   "display_name": "base",
   "language": "python",
   "name": "python3"
  },
  "language_info": {
   "codemirror_mode": {
    "name": "ipython",
    "version": 3
   },
   "file_extension": ".py",
   "mimetype": "text/x-python",
   "name": "python",
   "nbconvert_exporter": "python",
   "pygments_lexer": "ipython3",
   "version": "3.11.5"
  }
 },
 "nbformat": 4,
 "nbformat_minor": 2
}
